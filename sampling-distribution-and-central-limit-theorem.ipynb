{
 "cells": [
  {
   "cell_type": "code",
   "execution_count": 1,
   "id": "a4c35520",
   "metadata": {
    "_cell_guid": "b1076dfc-b9ad-4769-8c92-a6c4dae69d19",
    "_uuid": "8f2839f25d086af736a60e9eeb907d3b93b6e0e5",
    "execution": {
     "iopub.execute_input": "2023-12-19T21:58:27.845300Z",
     "iopub.status.busy": "2023-12-19T21:58:27.844884Z",
     "iopub.status.idle": "2023-12-19T21:58:28.266453Z",
     "shell.execute_reply": "2023-12-19T21:58:28.264845Z"
    },
    "papermill": {
     "duration": 0.434674,
     "end_time": "2023-12-19T21:58:28.269202",
     "exception": false,
     "start_time": "2023-12-19T21:58:27.834528",
     "status": "completed"
    },
    "tags": []
   },
   "outputs": [
    {
     "name": "stdout",
     "output_type": "stream",
     "text": [
      "/kaggle/input/titenic/submission4.csv\n",
      "/kaggle/input/titenic/__results__.html\n",
      "/kaggle/input/titenic/__notebook__.ipynb\n",
      "/kaggle/input/titenic/__output__.json\n",
      "/kaggle/input/titenic/custom.css\n",
      "/kaggle/input/titenic/__results___files/__results___15_1.png\n",
      "/kaggle/input/titenic/__results___files/__results___22_1.png\n"
     ]
    }
   ],
   "source": [
    "# This Python 3 environment comes with many helpful analytics libraries installed\n",
    "# It is defined by the kaggle/python Docker image: https://github.com/kaggle/docker-python\n",
    "# For example, here's several helpful packages to load\n",
    "\n",
    "import numpy as np # linear algebra\n",
    "import pandas as pd # data processing, CSV file I/O (e.g. pd.read_csv)\n",
    "\n",
    "# Input data files are available in the read-only \"../input/\" directory\n",
    "# For example, running this (by clicking run or pressing Shift+Enter) will list all files under the input directory\n",
    "\n",
    "import os\n",
    "for dirname, _, filenames in os.walk('/kaggle/input'):\n",
    "    for filename in filenames:\n",
    "        print(os.path.join(dirname, filename))\n",
    "\n",
    "# You can write up to 20GB to the current directory (/kaggle/working/) that gets preserved as output when you create a version using \"Save & Run All\" \n",
    "# You can also write temporary files to /kaggle/temp/, but they won't be saved outside of the current session"
   ]
  },
  {
   "cell_type": "code",
   "execution_count": 2,
   "id": "5c5bc3a1",
   "metadata": {
    "execution": {
     "iopub.execute_input": "2023-12-19T21:58:28.284715Z",
     "iopub.status.busy": "2023-12-19T21:58:28.284222Z",
     "iopub.status.idle": "2023-12-19T21:58:28.319519Z",
     "shell.execute_reply": "2023-12-19T21:58:28.318763Z"
    },
    "papermill": {
     "duration": 0.045516,
     "end_time": "2023-12-19T21:58:28.321709",
     "exception": false,
     "start_time": "2023-12-19T21:58:28.276193",
     "status": "completed"
    },
    "tags": []
   },
   "outputs": [
    {
     "data": {
      "text/html": [
       "<div>\n",
       "<style scoped>\n",
       "    .dataframe tbody tr th:only-of-type {\n",
       "        vertical-align: middle;\n",
       "    }\n",
       "\n",
       "    .dataframe tbody tr th {\n",
       "        vertical-align: top;\n",
       "    }\n",
       "\n",
       "    .dataframe thead th {\n",
       "        text-align: right;\n",
       "    }\n",
       "</style>\n",
       "<table border=\"1\" class=\"dataframe\">\n",
       "  <thead>\n",
       "    <tr style=\"text-align: right;\">\n",
       "      <th></th>\n",
       "      <th>PassengerId</th>\n",
       "      <th>Survived</th>\n",
       "    </tr>\n",
       "  </thead>\n",
       "  <tbody>\n",
       "    <tr>\n",
       "      <th>0</th>\n",
       "      <td>892</td>\n",
       "      <td>0</td>\n",
       "    </tr>\n",
       "    <tr>\n",
       "      <th>1</th>\n",
       "      <td>893</td>\n",
       "      <td>1</td>\n",
       "    </tr>\n",
       "    <tr>\n",
       "      <th>2</th>\n",
       "      <td>894</td>\n",
       "      <td>0</td>\n",
       "    </tr>\n",
       "    <tr>\n",
       "      <th>3</th>\n",
       "      <td>895</td>\n",
       "      <td>0</td>\n",
       "    </tr>\n",
       "    <tr>\n",
       "      <th>4</th>\n",
       "      <td>896</td>\n",
       "      <td>1</td>\n",
       "    </tr>\n",
       "    <tr>\n",
       "      <th>...</th>\n",
       "      <td>...</td>\n",
       "      <td>...</td>\n",
       "    </tr>\n",
       "    <tr>\n",
       "      <th>413</th>\n",
       "      <td>1305</td>\n",
       "      <td>0</td>\n",
       "    </tr>\n",
       "    <tr>\n",
       "      <th>414</th>\n",
       "      <td>1306</td>\n",
       "      <td>1</td>\n",
       "    </tr>\n",
       "    <tr>\n",
       "      <th>415</th>\n",
       "      <td>1307</td>\n",
       "      <td>0</td>\n",
       "    </tr>\n",
       "    <tr>\n",
       "      <th>416</th>\n",
       "      <td>1308</td>\n",
       "      <td>0</td>\n",
       "    </tr>\n",
       "    <tr>\n",
       "      <th>417</th>\n",
       "      <td>1309</td>\n",
       "      <td>0</td>\n",
       "    </tr>\n",
       "  </tbody>\n",
       "</table>\n",
       "<p>418 rows × 2 columns</p>\n",
       "</div>"
      ],
      "text/plain": [
       "     PassengerId  Survived\n",
       "0            892         0\n",
       "1            893         1\n",
       "2            894         0\n",
       "3            895         0\n",
       "4            896         1\n",
       "..           ...       ...\n",
       "413         1305         0\n",
       "414         1306         1\n",
       "415         1307         0\n",
       "416         1308         0\n",
       "417         1309         0\n",
       "\n",
       "[418 rows x 2 columns]"
      ]
     },
     "execution_count": 2,
     "metadata": {},
     "output_type": "execute_result"
    }
   ],
   "source": [
    "data = pd.read_csv('/kaggle/input/titenic/submission4.csv')\n",
    "data"
   ]
  },
  {
   "cell_type": "code",
   "execution_count": 3,
   "id": "cb05e5c8",
   "metadata": {
    "execution": {
     "iopub.execute_input": "2023-12-19T21:58:28.338282Z",
     "iopub.status.busy": "2023-12-19T21:58:28.337473Z",
     "iopub.status.idle": "2023-12-19T21:58:28.345468Z",
     "shell.execute_reply": "2023-12-19T21:58:28.344443Z"
    },
    "papermill": {
     "duration": 0.018464,
     "end_time": "2023-12-19T21:58:28.347799",
     "exception": false,
     "start_time": "2023-12-19T21:58:28.329335",
     "status": "completed"
    },
    "tags": []
   },
   "outputs": [
    {
     "data": {
      "text/plain": [
       "0    892\n",
       "1    893\n",
       "2    894\n",
       "3    895\n",
       "4    896\n",
       "Name: PassengerId, dtype: int64"
      ]
     },
     "execution_count": 3,
     "metadata": {},
     "output_type": "execute_result"
    }
   ],
   "source": [
    "# show the first 5 values of PassengerId attribute\n",
    "data['PassengerId'].head()"
   ]
  },
  {
   "cell_type": "code",
   "execution_count": 4,
   "id": "2d41141a",
   "metadata": {
    "execution": {
     "iopub.execute_input": "2023-12-19T21:58:28.363785Z",
     "iopub.status.busy": "2023-12-19T21:58:28.363405Z",
     "iopub.status.idle": "2023-12-19T21:58:28.372316Z",
     "shell.execute_reply": "2023-12-19T21:58:28.371280Z"
    },
    "papermill": {
     "duration": 0.019686,
     "end_time": "2023-12-19T21:58:28.374779",
     "exception": false,
     "start_time": "2023-12-19T21:58:28.355093",
     "status": "completed"
    },
    "tags": []
   },
   "outputs": [
    {
     "data": {
      "text/plain": [
       "0"
      ]
     },
     "execution_count": 4,
     "metadata": {},
     "output_type": "execute_result"
    }
   ],
   "source": [
    "# to check null values PassengerId attribute\n",
    "data['PassengerId'].isnull().sum()"
   ]
  },
  {
   "cell_type": "code",
   "execution_count": 5,
   "id": "608fc9f5",
   "metadata": {
    "execution": {
     "iopub.execute_input": "2023-12-19T21:58:28.391135Z",
     "iopub.status.busy": "2023-12-19T21:58:28.390762Z",
     "iopub.status.idle": "2023-12-19T21:58:28.397810Z",
     "shell.execute_reply": "2023-12-19T21:58:28.396726Z"
    },
    "papermill": {
     "duration": 0.017876,
     "end_time": "2023-12-19T21:58:28.400089",
     "exception": false,
     "start_time": "2023-12-19T21:58:28.382213",
     "status": "completed"
    },
    "tags": []
   },
   "outputs": [
    {
     "data": {
      "text/plain": [
       "1100.5"
      ]
     },
     "execution_count": 5,
     "metadata": {},
     "output_type": "execute_result"
    }
   ],
   "source": [
    "# Find PassengerId's mean\n",
    "PassengerId_mean = data['PassengerId'].mean()\n",
    "PassengerId_mean"
   ]
  },
  {
   "cell_type": "code",
   "execution_count": 6,
   "id": "83346ef3",
   "metadata": {
    "execution": {
     "iopub.execute_input": "2023-12-19T21:58:28.416474Z",
     "iopub.status.busy": "2023-12-19T21:58:28.415918Z",
     "iopub.status.idle": "2023-12-19T21:58:28.423420Z",
     "shell.execute_reply": "2023-12-19T21:58:28.422395Z"
    },
    "papermill": {
     "duration": 0.018286,
     "end_time": "2023-12-19T21:58:28.425676",
     "exception": false,
     "start_time": "2023-12-19T21:58:28.407390",
     "status": "completed"
    },
    "tags": []
   },
   "outputs": [
    {
     "data": {
      "text/plain": [
       "120.81045760473994"
      ]
     },
     "execution_count": 6,
     "metadata": {},
     "output_type": "execute_result"
    }
   ],
   "source": [
    "# Find PassengerId's std\n",
    "PassengerId_std = data['PassengerId'].std()\n",
    "PassengerId_std"
   ]
  },
  {
   "cell_type": "code",
   "execution_count": 7,
   "id": "19b1c55f",
   "metadata": {
    "execution": {
     "iopub.execute_input": "2023-12-19T21:58:28.442431Z",
     "iopub.status.busy": "2023-12-19T21:58:28.442067Z",
     "iopub.status.idle": "2023-12-19T21:58:29.815135Z",
     "shell.execute_reply": "2023-12-19T21:58:29.813969Z"
    },
    "papermill": {
     "duration": 1.384307,
     "end_time": "2023-12-19T21:58:29.817522",
     "exception": false,
     "start_time": "2023-12-19T21:58:28.433215",
     "status": "completed"
    },
    "tags": []
   },
   "outputs": [
    {
     "data": {
      "text/plain": [
       "<Axes: ylabel='Density'>"
      ]
     },
     "execution_count": 7,
     "metadata": {},
     "output_type": "execute_result"
    },
    {
     "data": {
      "image/png": "[encoded data removed]",
      "text/plain": [
       "<Figure size 640x480 with 1 Axes>"
      ]
     },
     "metadata": {},
     "output_type": "display_data"
    }
   ],
   "source": [
    "# distribution of PassengerId \n",
    "import matplotlib.pyplot as plt\n",
    "data['PassengerId'].plot(kind = 'kde')"
   ]
  },
  {
   "cell_type": "code",
   "execution_count": 8,
   "id": "fc112a65",
   "metadata": {
    "execution": {
     "iopub.execute_input": "2023-12-19T21:58:29.836813Z",
     "iopub.status.busy": "2023-12-19T21:58:29.835695Z",
     "iopub.status.idle": "2023-12-19T21:58:29.854977Z",
     "shell.execute_reply": "2023-12-19T21:58:29.854212Z"
    },
    "papermill": {
     "duration": 0.031484,
     "end_time": "2023-12-19T21:58:29.857298",
     "exception": false,
     "start_time": "2023-12-19T21:58:29.825814",
     "status": "completed"
    },
    "tags": []
   },
   "outputs": [],
   "source": [
    "# Sample of 50 people and convert them into list\n",
    "samples = []\n",
    "for i in range(100):\n",
    "    samples.append(data['PassengerId'].sample(50).values.tolist())"
   ]
  },
  {
   "cell_type": "code",
   "execution_count": 9,
   "id": "bfac77aa",
   "metadata": {
    "execution": {
     "iopub.execute_input": "2023-12-19T21:58:29.875509Z",
     "iopub.status.busy": "2023-12-19T21:58:29.874789Z",
     "iopub.status.idle": "2023-12-19T21:58:29.881013Z",
     "shell.execute_reply": "2023-12-19T21:58:29.880005Z"
    },
    "papermill": {
     "duration": 0.017772,
     "end_time": "2023-12-19T21:58:29.883289",
     "exception": false,
     "start_time": "2023-12-19T21:58:29.865517",
     "status": "completed"
    },
    "tags": []
   },
   "outputs": [
    {
     "data": {
      "text/plain": [
       "100"
      ]
     },
     "execution_count": 9,
     "metadata": {},
     "output_type": "execute_result"
    }
   ],
   "source": [
    "len(samples)"
   ]
  },
  {
   "cell_type": "code",
   "execution_count": 10,
   "id": "ad88bdc8",
   "metadata": {
    "execution": {
     "iopub.execute_input": "2023-12-19T21:58:29.901725Z",
     "iopub.status.busy": "2023-12-19T21:58:29.900635Z",
     "iopub.status.idle": "2023-12-19T21:58:29.908716Z",
     "shell.execute_reply": "2023-12-19T21:58:29.907709Z"
    },
    "papermill": {
     "duration": 0.019347,
     "end_time": "2023-12-19T21:58:29.910773",
     "exception": false,
     "start_time": "2023-12-19T21:58:29.891426",
     "status": "completed"
    },
    "tags": []
   },
   "outputs": [
    {
     "data": {
      "text/plain": [
       "array([[1256, 1128,  906, ..., 1280, 1126, 1142],\n",
       "       [ 905,  917, 1016, ...,  970, 1068, 1289],\n",
       "       [ 919, 1261, 1121, ..., 1274, 1042,  971],\n",
       "       ...,\n",
       "       [ 906, 1150, 1201, ..., 1130,  923, 1218],\n",
       "       [1249, 1179, 1185, ..., 1295, 1025, 1107],\n",
       "       [1287, 1166,  965, ...,  960, 1003,  977]])"
      ]
     },
     "execution_count": 10,
     "metadata": {},
     "output_type": "execute_result"
    }
   ],
   "source": [
    "samples = np.array(samples)\n",
    "samples"
   ]
  },
  {
   "cell_type": "code",
   "execution_count": 11,
   "id": "d8ff004a",
   "metadata": {
    "execution": {
     "iopub.execute_input": "2023-12-19T21:58:29.929274Z",
     "iopub.status.busy": "2023-12-19T21:58:29.928669Z",
     "iopub.status.idle": "2023-12-19T21:58:29.936577Z",
     "shell.execute_reply": "2023-12-19T21:58:29.935445Z"
    },
    "papermill": {
     "duration": 0.019505,
     "end_time": "2023-12-19T21:58:29.938682",
     "exception": false,
     "start_time": "2023-12-19T21:58:29.919177",
     "status": "completed"
    },
    "tags": []
   },
   "outputs": [
    {
     "data": {
      "text/plain": [
       "array([1103.18, 1079.32, 1107.64, 1105.9 , 1111.42, 1099.48, 1097.86,\n",
       "       1108.86, 1094.26, 1107.32, 1115.92, 1104.22, 1104.02, 1089.78,\n",
       "       1125.44, 1090.56, 1099.66, 1116.24, 1082.3 , 1102.7 , 1075.48,\n",
       "       1085.36, 1110.24, 1119.36, 1108.34, 1099.54, 1108.44, 1085.42,\n",
       "       1088.18, 1146.68, 1087.36, 1128.26, 1114.64, 1108.32, 1088.44,\n",
       "       1102.76, 1093.88, 1116.66, 1101.4 , 1080.98, 1094.68, 1116.98,\n",
       "       1094.36, 1123.  , 1120.4 , 1087.28, 1105.48, 1108.12, 1110.6 ,\n",
       "       1090.  , 1126.22, 1110.74, 1080.2 , 1095.74, 1139.5 , 1083.64,\n",
       "       1112.6 , 1116.44, 1101.88, 1099.9 , 1091.64, 1088.48, 1096.14,\n",
       "       1114.94, 1118.34, 1132.86, 1113.24, 1105.48, 1081.42, 1115.36,\n",
       "       1110.2 , 1109.78, 1087.64, 1087.84, 1110.46, 1067.4 , 1123.44,\n",
       "       1101.58, 1098.88, 1108.44, 1100.96, 1099.06, 1089.94, 1092.22,\n",
       "       1086.82, 1107.38, 1107.14, 1079.26, 1087.76, 1067.06, 1092.7 ,\n",
       "       1078.78, 1088.84, 1120.92, 1093.86, 1132.1 , 1112.14, 1100.62,\n",
       "       1076.74, 1089.62])"
      ]
     },
     "execution_count": 11,
     "metadata": {},
     "output_type": "execute_result"
    }
   ],
   "source": [
    "sampling_mean = samples.mean(axis = 1)\n",
    "sampling_mean"
   ]
  },
  {
   "cell_type": "code",
   "execution_count": 12,
   "id": "1116b9c8",
   "metadata": {
    "execution": {
     "iopub.execute_input": "2023-12-19T21:58:29.957994Z",
     "iopub.status.busy": "2023-12-19T21:58:29.957385Z",
     "iopub.status.idle": "2023-12-19T21:58:30.663573Z",
     "shell.execute_reply": "2023-12-19T21:58:30.662770Z"
    },
    "papermill": {
     "duration": 0.718325,
     "end_time": "2023-12-19T21:58:30.665756",
     "exception": false,
     "start_time": "2023-12-19T21:58:29.947431",
     "status": "completed"
    },
    "tags": []
   },
   "outputs": [
    {
     "data": {
      "text/plain": [
       "<Axes: ylabel='Density'>"
      ]
     },
     "execution_count": 12,
     "metadata": {},
     "output_type": "execute_result"
    },
    {
     "data": {
      "image/png": "[encoded data removed]",
      "text/plain": [
       "<Figure size 640x480 with 1 Axes>"
      ]
     },
     "metadata": {},
     "output_type": "display_data"
    }
   ],
   "source": [
    "import seaborn as sns\n",
    "sns.kdeplot(sampling_mean)"
   ]
  },
  {
   "cell_type": "code",
   "execution_count": 13,
   "id": "bf7c98bb",
   "metadata": {
    "execution": {
     "iopub.execute_input": "2023-12-19T21:58:30.687000Z",
     "iopub.status.busy": "2023-12-19T21:58:30.686153Z",
     "iopub.status.idle": "2023-12-19T21:58:30.692959Z",
     "shell.execute_reply": "2023-12-19T21:58:30.691985Z"
    },
    "papermill": {
     "duration": 0.020055,
     "end_time": "2023-12-19T21:58:30.695297",
     "exception": false,
     "start_time": "2023-12-19T21:58:30.675242",
     "status": "completed"
    },
    "tags": []
   },
   "outputs": [
    {
     "data": {
      "text/plain": [
       "1101.8106"
      ]
     },
     "execution_count": 13,
     "metadata": {},
     "output_type": "execute_result"
    }
   ],
   "source": [
    "sampling_mean.mean()"
   ]
  },
  {
   "cell_type": "code",
   "execution_count": 14,
   "id": "23e92095",
   "metadata": {
    "execution": {
     "iopub.execute_input": "2023-12-19T21:58:30.716343Z",
     "iopub.status.busy": "2023-12-19T21:58:30.715773Z",
     "iopub.status.idle": "2023-12-19T21:58:31.035190Z",
     "shell.execute_reply": "2023-12-19T21:58:31.034282Z"
    },
    "papermill": {
     "duration": 0.332823,
     "end_time": "2023-12-19T21:58:31.037641",
     "exception": false,
     "start_time": "2023-12-19T21:58:30.704818",
     "status": "completed"
    },
    "tags": []
   },
   "outputs": [
    {
     "data": {
      "text/plain": [
       "<Axes: ylabel='Density'>"
      ]
     },
     "execution_count": 14,
     "metadata": {},
     "output_type": "execute_result"
    },
    {
     "data": {
      "image/png": "[encoded data removed]",
      "text/plain": [
       "<Figure size 640x480 with 1 Axes>"
      ]
     },
     "metadata": {},
     "output_type": "display_data"
    }
   ],
   "source": [
    "sns.kdeplot(sampling_mean)"
   ]
  },
  {
   "cell_type": "code",
   "execution_count": 15,
   "id": "92e1c2f5",
   "metadata": {
    "execution": {
     "iopub.execute_input": "2023-12-19T21:58:31.060678Z",
     "iopub.status.busy": "2023-12-19T21:58:31.059952Z",
     "iopub.status.idle": "2023-12-19T21:58:31.067856Z",
     "shell.execute_reply": "2023-12-19T21:58:31.066583Z"
    },
    "papermill": {
     "duration": 0.022061,
     "end_time": "2023-12-19T21:58:31.070233",
     "exception": false,
     "start_time": "2023-12-19T21:58:31.048172",
     "status": "completed"
    },
    "tags": []
   },
   "outputs": [
    {
     "data": {
      "text/plain": [
       "2.166151331924896"
      ]
     },
     "execution_count": 15,
     "metadata": {},
     "output_type": "execute_result"
    }
   ],
   "source": [
    "sampling_mean.std() / np.sqrt(50)"
   ]
  },
  {
   "cell_type": "code",
   "execution_count": 16,
   "id": "6b5f6c58",
   "metadata": {
    "execution": {
     "iopub.execute_input": "2023-12-19T21:58:31.092949Z",
     "iopub.status.busy": "2023-12-19T21:58:31.092520Z",
     "iopub.status.idle": "2023-12-19T21:58:31.098768Z",
     "shell.execute_reply": "2023-12-19T21:58:31.098042Z"
    },
    "papermill": {
     "duration": 0.020232,
     "end_time": "2023-12-19T21:58:31.100995",
     "exception": false,
     "start_time": "2023-12-19T21:58:31.080763",
     "status": "completed"
    },
    "tags": []
   },
   "outputs": [
    {
     "name": "stdout",
     "output_type": "stream",
     "text": [
      "The range is 1097.4782973361503 - 1106.1429026638498\n"
     ]
    }
   ],
   "source": [
    "lower_limit = sampling_mean.mean() - 2 * sampling_mean.std() / np.sqrt(50)\n",
    "upper_limit = sampling_mean.mean() + 2 * sampling_mean.std() / np.sqrt(50)\n",
    "print('The range is', lower_limit, '-', upper_limit)"
   ]
  },
  {
   "cell_type": "code",
   "execution_count": 17,
   "id": "c658161b",
   "metadata": {
    "execution": {
     "iopub.execute_input": "2023-12-19T21:58:31.124330Z",
     "iopub.status.busy": "2023-12-19T21:58:31.123320Z",
     "iopub.status.idle": "2023-12-19T21:58:31.131077Z",
     "shell.execute_reply": "2023-12-19T21:58:31.129947Z"
    },
    "papermill": {
     "duration": 0.02192,
     "end_time": "2023-12-19T21:58:31.133387",
     "exception": false,
     "start_time": "2023-12-19T21:58:31.111467",
     "status": "completed"
    },
    "tags": []
   },
   "outputs": [
    {
     "data": {
      "text/plain": [
       "1100.5"
      ]
     },
     "execution_count": 17,
     "metadata": {},
     "output_type": "execute_result"
    }
   ],
   "source": [
    "# Find PassengerId's mean\n",
    "PassengerId_mean = data['PassengerId'].mean()\n",
    "PassengerId_mean"
   ]
  },
  {
   "cell_type": "markdown",
   "id": "0d997687",
   "metadata": {
    "papermill": {
     "duration": 0.010454,
     "end_time": "2023-12-19T21:58:31.155005",
     "exception": false,
     "start_time": "2023-12-19T21:58:31.144551",
     "status": "completed"
    },
    "tags": []
   },
   "source": [
    "**Sampling Distribution**\n",
    "it is a kind of representation in probability distribution of mean , std and variance\n",
    "where we calculate multiple samples that is drawn from the same population, it is used in \n",
    "statical analysis and hypothesis testing\n",
    "\n",
    "**Central limit theorem(CLT)**\n",
    "The central limit theorem states that the distribution of the sample means of a large number\n",
    "of independent and identically distributed random variable approach will approach a normal distribution\n",
    ", regardless of the underlying distribution of the variables.\n",
    "**The condition required for the CLT(Central limit theorem) to hold are**\n",
    "1. The sample size is large enough , typically greater than equal to 30.\n",
    "2. The sample is drawn from a finite population or an infinite population\n",
    "   with a finite variance.\n",
    "3. The random variables in the sample are independent and identically distributed.\n",
    "\n",
    "Note:=>  CLT is important in statistics and Machine learning we can use CLT to construct confidence intervals,\n",
    "perform hypothesis tests, and make prediction about the population mean based on the sample data, CLT provides\n",
    "a theoretical Justification such as T-Test, ANOVA and Linear Regression.\n",
    "\n",
    "**In this workbook I have imported the titenic dataset and performed all these statical calculation on \"PassengerId\" column**"
   ]
  },
  {
   "cell_type": "code",
   "execution_count": null,
   "id": "a5321835",
   "metadata": {
    "papermill": {
     "duration": 0.010599,
     "end_time": "2023-12-19T21:58:31.176122",
     "exception": false,
     "start_time": "2023-12-19T21:58:31.165523",
     "status": "completed"
    },
    "tags": []
   },
   "outputs": [],
   "source": []
  }
 ],
 "metadata": {
  "kaggle": {
   "accelerator": "none",
   "dataSources": [
    {
     "sourceId": 46162104,
     "sourceType": "kernelVersion"
    }
   ],
   "dockerImageVersionId": 30626,
   "isGpuEnabled": false,
   "isInternetEnabled": false,
   "language": "python",
   "sourceType": "notebook"
  },
  "kernelspec": {
   "display_name": "Python 3",
   "language": "python",
   "name": "python3"
  },
  "language_info": {
   "codemirror_mode": {
    "name": "ipython",
    "version": 3
   },
   "file_extension": ".py",
   "mimetype": "text/x-python",
   "name": "python",
   "nbconvert_exporter": "python",
   "pygments_lexer": "ipython3",
   "version": "3.10.12"
  },
  "papermill": {
   "default_parameters": {},
   "duration": 7.232524,
   "end_time": "2023-12-19T21:58:31.707088",
   "environment_variables": {},
   "exception": null,
   "input_path": "__notebook__.ipynb",
   "output_path": "__notebook__.ipynb",
   "parameters": {},
   "start_time": "2023-12-19T21:58:24.474564",
   "version": "2.4.0"
  }
 },
 "nbformat": 4,
 "nbformat_minor": 5
}
